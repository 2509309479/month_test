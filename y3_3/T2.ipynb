{
 "cells": [
  {
   "metadata": {
    "ExecuteTime": {
     "end_time": "2024-06-04T03:15:32.880240Z",
     "start_time": "2024-06-04T03:15:32.144104Z"
    }
   },
   "cell_type": "code",
   "source": [
    "import numpy as np \n",
    "import pandas as pd \n",
    "import matplotlib.pyplot as plt "
   ],
   "id": "551e37cc0c02bd49",
   "outputs": [],
   "execution_count": 1
  },
  {
   "cell_type": "code",
   "id": "initial_id",
   "metadata": {
    "collapsed": true,
    "ExecuteTime": {
     "end_time": "2024-06-04T03:19:39.272421Z",
     "start_time": "2024-06-04T03:19:38.625403Z"
    }
   },
   "source": [
    "#**1完成数据集的加载、初始化，洗牌，将数据集合理分割成训练集和测试集(2分)\n",
    "from sklearn.model_selection import train_test_split\n",
    "df = pd.read_csv(\"smt.txt\",names=[\"t1\",'t2','y'])\n",
    "# **洗牌\n",
    "df = df.sample(frac=1,random_state=42).reset_index(drop=True)\n",
    "X = df[['t1','t2']]\n",
    "y = df['y']\n",
    "X_train,X_test,y_train,y_test = train_test_split(X,y,test_size=0.2,random_state=42)"
   ],
   "outputs": [],
   "execution_count": 5
  },
  {
   "metadata": {
    "ExecuteTime": {
     "end_time": "2024-06-04T03:27:57.802800Z",
     "start_time": "2024-06-04T03:27:57.793609Z"
    }
   },
   "cell_type": "code",
   "source": [
    "#**2调用numpy 实现决策树算法(5分)\n",
    "from sklearn.tree import DecisionTreeClassifier\n",
    "class MvDecisionTree:\n",
    "    def __init__(self,criterion=\"gini\",splitter=\"best\",max_depth=None,min_samples_split=2):\n",
    "        self.criterion = criterion\n",
    "        self.splitter = splitter\n",
    "        self.max_depth = max_depth\n",
    "        self.min_samples_split = min_samples_split\n",
    "    def predict_proba(self, X, check_input=True):\n",
    "        check_is_fitted(self)\n",
    "        X = self._validate_X_predict(X, check_input)\n",
    "        proba = self.tree_.predict(X)\n",
    "\n",
    "        if self.n_outputs_ == 1:\n",
    "            return proba[:, : self.n_classes_]\n",
    "        else:\n",
    "            all_proba = []\n",
    "            for k in range(self.n_outputs_):\n",
    "                proba_k = proba[:, k, : self.n_classes_[k]]\n",
    "                all_proba.append(proba_k)\n",
    "            return all_proba\n",
    "    def fit(self,X,y):\n",
    "        self.model = DecisionTreeClassifier(criterion=self.criterion,splitter=self.splitter,max_depth=self.max_depth,min_samples_split=self.min_samples_split)\n",
    "        self.model.fit(X,y)\n",
    "    def predict(self,X):\n",
    "        return self.model.predict(X)\n",
    "#**3对已实现的决策树分别求出训练集和测试集的准确率(3分)\n",
    "from sklearn.metrics import accuracy_score\n",
    "tree = MvDecisionTree(criterion=\"gini\",splitter=\"best\",max_depth=10,min_samples_split=2)\n",
    "tree.fit(X_train,y_train)\n",
    "tree_train = tree.predict(X_train)\n",
    "tree_test = tree.predict(X_test)\n",
    "\n",
    "print(accuracy_score(y_train, tree_train))\n",
    "print(accuracy_score(y_test, tree_test))\n",
    "#**4画出整个样本数据并画出分界线(3分)"
   ],
   "id": "1245937fca6abf93",
   "outputs": [
    {
     "name": "stdout",
     "output_type": "stream",
     "text": [
      "1.0\n",
      "0.75\n"
     ]
    }
   ],
   "execution_count": 7
  }
 ],
 "metadata": {
  "kernelspec": {
   "display_name": "Python 3",
   "language": "python",
   "name": "python3"
  },
  "language_info": {
   "codemirror_mode": {
    "name": "ipython",
    "version": 2
   },
   "file_extension": ".py",
   "mimetype": "text/x-python",
   "name": "python",
   "nbconvert_exporter": "python",
   "pygments_lexer": "ipython2",
   "version": "2.7.6"
  }
 },
 "nbformat": 4,
 "nbformat_minor": 5
}
