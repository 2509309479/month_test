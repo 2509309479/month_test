{
 "cells": [
  {
   "metadata": {
    "ExecuteTime": {
     "end_time": "2024-06-04T01:10:06.201580Z",
     "start_time": "2024-06-04T01:10:05.475293Z"
    }
   },
   "cell_type": "code",
   "source": [
    "import numpy as np\n",
    "import pandas as pd\n",
    "import matplotlib.pyplot as plt\n",
    "\n",
    "plt.rcParams['font.sans-serif'] = ['SimHei']\n",
    "plt.rcParams['axes.unicode_minus'] = False"
   ],
   "id": "e535084e6225603a",
   "outputs": [],
   "execution_count": 1
  },
  {
   "cell_type": "code",
   "id": "initial_id",
   "metadata": {
    "collapsed": true,
    "ExecuteTime": {
     "end_time": "2024-06-04T01:25:41.501160Z",
     "start_time": "2024-06-04T01:25:41.493368Z"
    }
   },
   "source": [
    "# **1.\t获取数据，将字符类型的特征转换为数字型，将缺失值做均值处理（6分）\n",
    "from sklearn import preprocessing\n",
    "\n",
    "le = preprocessing.LabelEncoder()\n",
    "data = pd.read_csv(\"train.csv\")\n",
    "# ** 将性别 分为 0 1 \n",
    "data[\"Sex\"] = data[\"Sex\"].map({\"male\": 0, \"female\": 1})\n",
    "data[\"Age\"].fillna(data['Age'].mean(), inplace=True)\n",
    "data[\"Embarked\"] = data[\"Embarked\"].fillna(data[\"Embarked\"].mode()[0])\n",
    "data['Embarked'] = le.fit_transform(data[\"Embarked\"])"
   ],
   "outputs": [
    {
     "name": "stderr",
     "output_type": "stream",
     "text": [
      "C:\\Users\\lijunhao\\AppData\\Local\\Temp\\ipykernel_43632\\1602308089.py:8: FutureWarning: A value is trying to be set on a copy of a DataFrame or Series through chained assignment using an inplace method.\n",
      "The behavior will change in pandas 3.0. This inplace method will never work because the intermediate object on which we are setting values always behaves as a copy.\n",
      "\n",
      "For example, when doing 'df[col].method(value, inplace=True)', try using 'df.method({col: value}, inplace=True)' or df[col] = df[col].method(value) instead, to perform the operation inplace on the original object.\n",
      "\n",
      "\n",
      "  data[\"Age\"].fillna(data['Age'].mean(),inplace=True)\n"
     ]
    }
   ],
   "execution_count": 6
  },
  {
   "metadata": {
    "ExecuteTime": {
     "end_time": "2024-06-04T01:30:22.162458Z",
     "start_time": "2024-06-04T01:30:22.070194Z"
    }
   },
   "cell_type": "code",
   "source": [
    "# **2.\t划分测试集与训练集，选择合适模型训练、预测。（5分）\n",
    "from sklearn.model_selection import train_test_split\n",
    "from sklearn.ensemble import RandomForestClassifier\n",
    "\n",
    "X = data[['Pclass', 'Sex', \"Age\", \"SibSp\", 'Parch', 'Fare', 'Embarked']]\n",
    "y = data[\"Survived\"]\n",
    "X_train, X_test, y_train, y_test = train_test_split(X, y, test_size=0.2, random_state=42)\n",
    "lf = RandomForestClassifier(n_estimators=100, max_depth=10, min_samples_leaf=2)\n",
    "lf.fit(X_train, y_train)\n",
    "lf_pred = lf.predict(X_test)\n",
    "print(lf_pred)"
   ],
   "id": "a70c67d1152a2686",
   "outputs": [
    {
     "name": "stdout",
     "output_type": "stream",
     "text": [
      "[0 0 0 1 0 1 1 0 1 1 0 0 0 0 0 1 0 1 0 0 0 0 0 0 0 0 0 0 0 0 0 1 0 1 0 0 0\n",
      " 1 1 0 0 0 0 0 0 0 0 0 0 0 1 1 0 1 0 1 0 1 1 1 0 1 1 0 0 1 0 0 0 1 1 1 1 1\n",
      " 0 0 1 1 1 1 0 1 1 0 0 0 1 1 0 0 0 0 0 0 0 0 0 0 1 0 0 0 1 0 0 0 1 0 0 0 1\n",
      " 0 1 0 0 0 0 0 1 0 0 1 1 1 0 0 1 0 0 0 1 0 0 1 1 0 1 0 0 0 0 1 0 0 0 1 0 0\n",
      " 1 0 0 0 0 1 0 0 1 1 1 1 0 0 0 1 0 0 0 1 0 0 0 1 0 1 0 0 0 1 1]\n"
     ]
    }
   ],
   "execution_count": 11
  },
  {
   "metadata": {
    "ExecuteTime": {
     "end_time": "2024-06-04T01:40:52.381422Z",
     "start_time": "2024-06-04T01:40:52.173675Z"
    }
   },
   "cell_type": "code",
   "source": [
    "# **3.\t手动实现逻辑回归算法（5分）\n",
    "from sklearn.datasets import make_classification\n",
    "\n",
    "\n",
    "def sigmoid(x):\n",
    "    return 1 / (1 + np.exp(-x))\n",
    "\n",
    "\n",
    "def log_cost(x, y, theta):\n",
    "    m = y.size\n",
    "    h = sigmoid(x.dot(theta))\n",
    "    j = (-1 / m) * (y.dot(np.log(h)) + (1 - y).dot(np.log(1 - h)))\n",
    "    return j\n",
    "\n",
    "\n",
    "def log_desc(x, y, theta, l, num_iter):\n",
    "    m = y.size\n",
    "    arr = np.zeros(num_iter)\n",
    "    for i in range(num_iter):\n",
    "        arr[i] = log_cost(x, y, theta)\n",
    "        h = sigmoid(x.dot(theta))\n",
    "        grid = (1 / m) * (x.T.dot(h - y))\n",
    "        theta -= l * grid\n",
    "    return theta, arr\n",
    "\n",
    "\n",
    "X, y = make_classification(n_samples=300, n_features=5, n_classes=2)\n",
    "X_train, X_test, y_train, y_test = train_test_split(X, y, test_size=0.2, random_state=42)\n",
    "theta = np.zeros(X_train.shape[1])\n",
    "theta, arr = log_desc(X, y, theta, 0.01, 10000)\n",
    "print(arr)\n",
    "pred = sigmoid(X_test.dot(theta)).round()\n",
    "print(pred)"
   ],
   "id": "3fa394d812b722bb",
   "outputs": [
    {
     "name": "stdout",
     "output_type": "stream",
     "text": [
      "[0.69314718 0.69071398 0.68830303 ... 0.31512732 0.31512732 0.31512732]\n",
      "[1. 0. 1. 1. 0. 1. 1. 1. 0. 1. 1. 0. 1. 0. 0. 1. 1. 0. 1. 1. 1. 0. 1. 1.\n",
      " 0. 1. 1. 0. 0. 0. 1. 1. 0. 0. 1. 1. 1. 0. 0. 1. 0. 0. 1. 1. 1. 0. 1. 1.\n",
      " 0. 1. 1. 0. 1. 1. 0. 1. 1. 0. 0. 1.]\n"
     ]
    }
   ],
   "execution_count": 17
  },
  {
   "metadata": {},
   "cell_type": "code",
   "outputs": [],
   "execution_count": null,
   "source": [
    "# **4.\t至少使用2种算法进行数据建模，并设置合理的参数（5分）\n",
    "#** 使用逻辑回归 和 决策树 \n"
   ],
   "id": "7c722863733d15eb"
  },
  {
   "metadata": {},
   "cell_type": "code",
   "outputs": [],
   "execution_count": null,
   "source": "# **5.\t选择合适评估指标评估模型。（6分）\n",
   "id": "ab2144f1bdf0a190"
  },
  {
   "metadata": {},
   "cell_type": "code",
   "outputs": [],
   "execution_count": null,
   "source": "# **6.\t使用合适超参进行微调调整超参数，获取最佳模型。（8分）\n",
   "id": "dbd963569cc028d8"
  },
  {
   "metadata": {
    "ExecuteTime": {
     "end_time": "2024-06-04T01:42:28.420785Z",
     "start_time": "2024-06-04T01:42:28.415589Z"
    }
   },
   "cell_type": "code",
   "source": [
    "# **7.\t输出最优模型的权重系数，对样本进行预测，保存模型到本地（5分）\n",
    "import joblib\n",
    "joblib.dump(pred,\"pred\")"
   ],
   "id": "2c1277420a3cee2b",
   "outputs": [
    {
     "data": {
      "text/plain": [
       "['pred']"
      ]
     },
     "execution_count": 18,
     "metadata": {},
     "output_type": "execute_result"
    }
   ],
   "execution_count": 18
  }
 ],
 "metadata": {
  "kernelspec": {
   "display_name": "Python 3",
   "language": "python",
   "name": "python3"
  },
  "language_info": {
   "codemirror_mode": {
    "name": "ipython",
    "version": 2
   },
   "file_extension": ".py",
   "mimetype": "text/x-python",
   "name": "python",
   "nbconvert_exporter": "python",
   "pygments_lexer": "ipython2",
   "version": "2.7.6"
  }
 },
 "nbformat": 4,
 "nbformat_minor": 5
}
