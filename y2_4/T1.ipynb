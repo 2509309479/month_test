{
 "cells": [
  {
   "metadata": {
    "ExecuteTime": {
     "end_time": "2024-06-04T01:56:44.705045Z",
     "start_time": "2024-06-04T01:56:43.800725Z"
    }
   },
   "cell_type": "code",
   "source": [
    "import numpy as np \n",
    "import pandas as pd \n",
    "import matplotlib.pyplot as plt \n",
    "plt.rcParams['font.sans-serif']=['SimHei']\n",
    "plt.rcParams['axes.unicode_minus']=False\n"
   ],
   "id": "2d592ba9aa3ffdae",
   "outputs": [],
   "execution_count": 2
  },
  {
   "metadata": {
    "ExecuteTime": {
     "end_time": "2024-06-04T01:58:42.722894Z",
     "start_time": "2024-06-04T01:58:42.117515Z"
    }
   },
   "cell_type": "code",
   "source": [
    "#**1.加载前列腺癌数据，构建会话对象,lpsa读取样本数据，并且将lable连续型变量转化为0,1 [0代表正常，1代表异常](5分)\n",
    "from sklearn.preprocessing import Binarizer\n",
    "data = pd.read_csv(\"lpsa.data\")\n",
    "binarizer = Binarizer(threshold=0)\n",
    "data[\"LabeledPoint\"] = binarizer.fit_transform(data.iloc[:,0].values.reshape(-1,1))\n",
    "data"
   ],
   "id": "678414d7d4362fe9",
   "outputs": [
    {
     "data": {
      "text/plain": [
       "    -0.4307829  -1.63735562648104  -2.00621178480549  -1.86242597251066  \\\n",
       "0    -0.162519          -1.988980          -0.722009          -0.787896   \n",
       "1    -0.162519          -1.578819          -2.188784           1.361163   \n",
       "2    -0.162519          -2.166917          -0.807994          -0.787896   \n",
       "3     0.371564          -0.507874          -0.458834          -0.250631   \n",
       "4     0.765468          -2.036128          -0.933955          -1.862426   \n",
       "..         ...                ...                ...                ...   \n",
       "61    4.029806           1.609063           1.103786           0.555266   \n",
       "62    4.129551           1.003621           0.113497          -0.384948   \n",
       "63    4.385147           1.255920           0.577607           0.555266   \n",
       "64    4.684443           2.096506           0.625489          -2.668323   \n",
       "65    5.477509           1.300290           0.338384           0.555266   \n",
       "\n",
       "    -1.02470580167082  -0.522940888712441  -0.863171185425945  \\\n",
       "0           -1.024706           -0.522941           -0.863171   \n",
       "1           -1.024706           -0.522941           -0.863171   \n",
       "2           -1.024706           -0.522941           -0.863171   \n",
       "3           -1.024706           -0.522941           -0.863171   \n",
       "4           -1.024706           -0.522941           -0.863171   \n",
       "..                ...                 ...                 ...   \n",
       "61          -1.024706           -0.522941           -0.863171   \n",
       "62           0.860016            1.892548           -0.863171   \n",
       "63          -1.024706            1.892548            1.073572   \n",
       "64          -1.024706            1.892548            1.679542   \n",
       "65           1.004813            1.892548            1.242632   \n",
       "\n",
       "    -1.04215728919298  -0.864466507337306  LabeledPoint  \n",
       "0           -1.042157           -0.864467           0.0  \n",
       "1            0.342627           -0.155348           0.0  \n",
       "2           -1.042157           -0.864467           0.0  \n",
       "3           -1.042157           -0.864467           1.0  \n",
       "4           -1.042157           -0.864467           1.0  \n",
       "..                ...                 ...           ...  \n",
       "61          -1.042157           -0.864467           1.0  \n",
       "62           0.342627           -0.332628           1.0  \n",
       "63           0.342627            1.262889           1.0  \n",
       "64           0.342627            0.553770           1.0  \n",
       "65           0.342627            1.972007           1.0  \n",
       "\n",
       "[66 rows x 10 columns]"
      ],
      "text/html": [
       "<div>\n",
       "<style scoped>\n",
       "    .dataframe tbody tr th:only-of-type {\n",
       "        vertical-align: middle;\n",
       "    }\n",
       "\n",
       "    .dataframe tbody tr th {\n",
       "        vertical-align: top;\n",
       "    }\n",
       "\n",
       "    .dataframe thead th {\n",
       "        text-align: right;\n",
       "    }\n",
       "</style>\n",
       "<table border=\"1\" class=\"dataframe\">\n",
       "  <thead>\n",
       "    <tr style=\"text-align: right;\">\n",
       "      <th></th>\n",
       "      <th>-0.4307829</th>\n",
       "      <th>-1.63735562648104</th>\n",
       "      <th>-2.00621178480549</th>\n",
       "      <th>-1.86242597251066</th>\n",
       "      <th>-1.02470580167082</th>\n",
       "      <th>-0.522940888712441</th>\n",
       "      <th>-0.863171185425945</th>\n",
       "      <th>-1.04215728919298</th>\n",
       "      <th>-0.864466507337306</th>\n",
       "      <th>LabeledPoint</th>\n",
       "    </tr>\n",
       "  </thead>\n",
       "  <tbody>\n",
       "    <tr>\n",
       "      <th>0</th>\n",
       "      <td>-0.162519</td>\n",
       "      <td>-1.988980</td>\n",
       "      <td>-0.722009</td>\n",
       "      <td>-0.787896</td>\n",
       "      <td>-1.024706</td>\n",
       "      <td>-0.522941</td>\n",
       "      <td>-0.863171</td>\n",
       "      <td>-1.042157</td>\n",
       "      <td>-0.864467</td>\n",
       "      <td>0.0</td>\n",
       "    </tr>\n",
       "    <tr>\n",
       "      <th>1</th>\n",
       "      <td>-0.162519</td>\n",
       "      <td>-1.578819</td>\n",
       "      <td>-2.188784</td>\n",
       "      <td>1.361163</td>\n",
       "      <td>-1.024706</td>\n",
       "      <td>-0.522941</td>\n",
       "      <td>-0.863171</td>\n",
       "      <td>0.342627</td>\n",
       "      <td>-0.155348</td>\n",
       "      <td>0.0</td>\n",
       "    </tr>\n",
       "    <tr>\n",
       "      <th>2</th>\n",
       "      <td>-0.162519</td>\n",
       "      <td>-2.166917</td>\n",
       "      <td>-0.807994</td>\n",
       "      <td>-0.787896</td>\n",
       "      <td>-1.024706</td>\n",
       "      <td>-0.522941</td>\n",
       "      <td>-0.863171</td>\n",
       "      <td>-1.042157</td>\n",
       "      <td>-0.864467</td>\n",
       "      <td>0.0</td>\n",
       "    </tr>\n",
       "    <tr>\n",
       "      <th>3</th>\n",
       "      <td>0.371564</td>\n",
       "      <td>-0.507874</td>\n",
       "      <td>-0.458834</td>\n",
       "      <td>-0.250631</td>\n",
       "      <td>-1.024706</td>\n",
       "      <td>-0.522941</td>\n",
       "      <td>-0.863171</td>\n",
       "      <td>-1.042157</td>\n",
       "      <td>-0.864467</td>\n",
       "      <td>1.0</td>\n",
       "    </tr>\n",
       "    <tr>\n",
       "      <th>4</th>\n",
       "      <td>0.765468</td>\n",
       "      <td>-2.036128</td>\n",
       "      <td>-0.933955</td>\n",
       "      <td>-1.862426</td>\n",
       "      <td>-1.024706</td>\n",
       "      <td>-0.522941</td>\n",
       "      <td>-0.863171</td>\n",
       "      <td>-1.042157</td>\n",
       "      <td>-0.864467</td>\n",
       "      <td>1.0</td>\n",
       "    </tr>\n",
       "    <tr>\n",
       "      <th>...</th>\n",
       "      <td>...</td>\n",
       "      <td>...</td>\n",
       "      <td>...</td>\n",
       "      <td>...</td>\n",
       "      <td>...</td>\n",
       "      <td>...</td>\n",
       "      <td>...</td>\n",
       "      <td>...</td>\n",
       "      <td>...</td>\n",
       "      <td>...</td>\n",
       "    </tr>\n",
       "    <tr>\n",
       "      <th>61</th>\n",
       "      <td>4.029806</td>\n",
       "      <td>1.609063</td>\n",
       "      <td>1.103786</td>\n",
       "      <td>0.555266</td>\n",
       "      <td>-1.024706</td>\n",
       "      <td>-0.522941</td>\n",
       "      <td>-0.863171</td>\n",
       "      <td>-1.042157</td>\n",
       "      <td>-0.864467</td>\n",
       "      <td>1.0</td>\n",
       "    </tr>\n",
       "    <tr>\n",
       "      <th>62</th>\n",
       "      <td>4.129551</td>\n",
       "      <td>1.003621</td>\n",
       "      <td>0.113497</td>\n",
       "      <td>-0.384948</td>\n",
       "      <td>0.860016</td>\n",
       "      <td>1.892548</td>\n",
       "      <td>-0.863171</td>\n",
       "      <td>0.342627</td>\n",
       "      <td>-0.332628</td>\n",
       "      <td>1.0</td>\n",
       "    </tr>\n",
       "    <tr>\n",
       "      <th>63</th>\n",
       "      <td>4.385147</td>\n",
       "      <td>1.255920</td>\n",
       "      <td>0.577607</td>\n",
       "      <td>0.555266</td>\n",
       "      <td>-1.024706</td>\n",
       "      <td>1.892548</td>\n",
       "      <td>1.073572</td>\n",
       "      <td>0.342627</td>\n",
       "      <td>1.262889</td>\n",
       "      <td>1.0</td>\n",
       "    </tr>\n",
       "    <tr>\n",
       "      <th>64</th>\n",
       "      <td>4.684443</td>\n",
       "      <td>2.096506</td>\n",
       "      <td>0.625489</td>\n",
       "      <td>-2.668323</td>\n",
       "      <td>-1.024706</td>\n",
       "      <td>1.892548</td>\n",
       "      <td>1.679542</td>\n",
       "      <td>0.342627</td>\n",
       "      <td>0.553770</td>\n",
       "      <td>1.0</td>\n",
       "    </tr>\n",
       "    <tr>\n",
       "      <th>65</th>\n",
       "      <td>5.477509</td>\n",
       "      <td>1.300290</td>\n",
       "      <td>0.338384</td>\n",
       "      <td>0.555266</td>\n",
       "      <td>1.004813</td>\n",
       "      <td>1.892548</td>\n",
       "      <td>1.242632</td>\n",
       "      <td>0.342627</td>\n",
       "      <td>1.972007</td>\n",
       "      <td>1.0</td>\n",
       "    </tr>\n",
       "  </tbody>\n",
       "</table>\n",
       "<p>66 rows × 10 columns</p>\n",
       "</div>"
      ]
     },
     "execution_count": 4,
     "metadata": {},
     "output_type": "execute_result"
    }
   ],
   "execution_count": 4
  },
  {
   "metadata": {
    "ExecuteTime": {
     "end_time": "2024-06-04T02:00:40.874227Z",
     "start_time": "2024-06-04T02:00:40.823532Z"
    }
   },
   "cell_type": "code",
   "source": [
    "#**2训练时需要LabeledPoint这样格式的数据，自主划分训练集、测试集(5分)\n",
    "from sklearn.model_selection import train_test_split\n",
    "X = data.iloc[:,1:9]\n",
    "y = data[\"LabeledPoint\"]\n",
    "X_train,X_test,y_train,y_test = train_test_split(X,y,test_size=0.2,random_state=42)"
   ],
   "id": "6568efc9c9ed7ea5",
   "outputs": [],
   "execution_count": 5
  },
  {
   "metadata": {},
   "cell_type": "code",
   "outputs": [],
   "execution_count": null,
   "source": [
    "#**3.自主选择两种算法，构造训练模型(8分)\n",
    "# **使用随机森林 跟 决策树 \n",
    "#**4、对以上两种算法进行参数调优（8分）\n",
    "#**5、对以上两种模型评估泛化能力，至少使用两种评估指标（8分）\n",
    "#**6、输出以上两种模型最优参数（5分）\n",
    "#**7、使用评估指标较优者，对样本批量预测（5分）\n",
    "#**8  使用classification_report输出分类报告结果（4分）"
   ],
   "id": "2a70b0d1b144ea61"
  },
  {
   "metadata": {
    "ExecuteTime": {
     "end_time": "2024-06-04T02:03:33.452451Z",
     "start_time": "2024-06-04T02:03:33.412506Z"
    }
   },
   "cell_type": "code",
   "source": [
    "#**1  导入相关的库（4分）\n",
    "from surprise import Dataset,Reader\n",
    "from surprise import KNNBasic"
   ],
   "id": "2e415c056f59aead",
   "outputs": [],
   "execution_count": 6
  },
  {
   "metadata": {
    "ExecuteTime": {
     "end_time": "2024-06-04T02:32:26.533442Z",
     "start_time": "2024-06-04T02:32:26.527921Z"
    }
   },
   "cell_type": "code",
   "source": [
    "#**2  自行定义基于物品或者用户推荐的函数（4分）\n",
    "def user_test(user_id,trainset,testset,k=10):\n",
    "    ml = KNNBasic(sim_options={\"user_based\":True})\n",
    "    ml.fit(trainset)\n",
    "    user_predicts = ml.test(testset)\n",
    "    user = [pred for pred in user_predicts if pred.uid == user_id]\n",
    "    user.sort(key=lambda x:x.est,reverse=True)\n",
    "    return [pred.iid for pred in user[:k]],user_predicts\n",
    "\n",
    "def item_test(item_id,trainset,testset,k=10):\n",
    "    ml = KNNBasic(sim_options={\"user_based\":True})\n",
    "    ml.fit(trainset)\n",
    "    user_predicts = ml.test(testset)\n",
    "    user = [pred for pred in user_predicts if pred.iid == item_id]\n",
    "    user.sort(key=lambda x:x.est,reverse=True)\n",
    "    return [pred.uid for pred in user[:k]],user_predicts"
   ],
   "id": "1dafceba49dcd1e3",
   "outputs": [],
   "execution_count": 21
  },
  {
   "metadata": {
    "ExecuteTime": {
     "end_time": "2024-06-04T02:31:56.139385Z",
     "start_time": "2024-06-04T02:31:56.130708Z"
    }
   },
   "cell_type": "code",
   "source": [
    "#**3  读取数据 其中用户 电影评分及评分时间为附件所示（4分）\n",
    "data = pd.read_csv(\"sample_movielens_ratings.txt\",sep=\"::\",names=[\"uid\",\"iid\",\"est\",\"time\"])\n",
    "read = Reader(rating_scale=(1,5))\n",
    "df = Dataset.load_from_df(data.drop(columns=\"time\"),read)"
   ],
   "id": "eadb1e17e54da5b1",
   "outputs": [
    {
     "name": "stderr",
     "output_type": "stream",
     "text": [
      "C:\\Users\\lijunhao\\AppData\\Local\\Temp\\ipykernel_10988\\3257941382.py:2: ParserWarning: Falling back to the 'python' engine because the 'c' engine does not support regex separators (separators > 1 char and different from '\\s+' are interpreted as regex); you can avoid this warning by specifying engine='python'.\n",
      "  data = pd.read_csv(\"sample_movielens_ratings.txt\",sep=\"::\",names=[\"uid\",\"iid\",\"est\",\"time\"])\n"
     ]
    }
   ],
   "execution_count": 19
  },
  {
   "metadata": {
    "ExecuteTime": {
     "end_time": "2024-06-04T02:26:35.764235Z",
     "start_time": "2024-06-04T02:26:35.760373Z"
    }
   },
   "cell_type": "code",
   "source": [
    "#**4  生成用户-物品评分矩阵（4分）\n",
    "print(data[[\"uid\", \"iid\", \"est\"]])"
   ],
   "id": "c700b0ab675cf143",
   "outputs": [
    {
     "name": "stdout",
     "output_type": "stream",
     "text": [
      "      uid  iid  est\n",
      "0       0    2    3\n",
      "1       0    3    1\n",
      "2       0    5    2\n",
      "3       0    9    4\n",
      "4       0   11    1\n",
      "...   ...  ...  ...\n",
      "1496   29   90    4\n",
      "1497   29   93    1\n",
      "1498   29   94    4\n",
      "1499   29   97    1\n",
      "1500   29   99    1\n",
      "\n",
      "[1501 rows x 3 columns]\n"
     ]
    }
   ],
   "execution_count": 14
  },
  {
   "metadata": {
    "ExecuteTime": {
     "end_time": "2024-06-04T02:32:28.638549Z",
     "start_time": "2024-06-04T02:32:28.628111Z"
    }
   },
   "cell_type": "code",
   "source": [
    "#**5  计算相似度：  \n",
    "#**从基于物品相似度计算（4分）\n",
    "#**   从基于用户相似度计算（4分）\n",
    "from surprise.model_selection import train_test_split\n",
    "trainset,testset = train_test_split(df,test_size=0.2,random_state=42)\n",
    "user_top10,user_pred = user_test(0,trainset,testset)\n",
    "item_top10,item_pred = item_test(0,trainset,testset)\n",
    "user = pd.DataFrame(user_pred)\n",
    "item = pd.DataFrame(item_pred)"
   ],
   "id": "3f98c484f47ac50e",
   "outputs": [
    {
     "name": "stdout",
     "output_type": "stream",
     "text": [
      "Computing the msd similarity matrix...\n",
      "Done computing similarity matrix.\n",
      "Computing the msd similarity matrix...\n",
      "Done computing similarity matrix.\n"
     ]
    }
   ],
   "execution_count": 22
  },
  {
   "metadata": {
    "ExecuteTime": {
     "end_time": "2024-06-04T02:32:48.071117Z",
     "start_time": "2024-06-04T02:32:48.063874Z"
    }
   },
   "cell_type": "code",
   "source": [
    "#**6  进行相似度预测:调用第2步进行相似度计算\n",
    "#**从基于物品相似度计算（4分）\n",
    "#**    从基于用户相似度计算（4分）\n",
    "user[user['uid'] == 0]"
   ],
   "id": "22de5338f8b89f1c",
   "outputs": [
    {
     "data": {
      "text/plain": [
       "     uid  iid  r_ui       est                                    details\n",
       "11     0   51   1.0  1.877850  {'actual_k': 17, 'was_impossible': False}\n",
       "15     0   77   2.0  2.392023   {'actual_k': 9, 'was_impossible': False}\n",
       "53     0   19   1.0  1.619435  {'actual_k': 11, 'was_impossible': False}\n",
       "109    0    3   1.0  1.319781  {'actual_k': 10, 'was_impossible': False}\n",
       "185    0   87   1.0  2.101785  {'actual_k': 11, 'was_impossible': False}\n",
       "200    0   29   1.0  2.312419  {'actual_k': 15, 'was_impossible': False}\n",
       "234    0   69   1.0  1.939611  {'actual_k': 12, 'was_impossible': False}\n",
       "246    0   28   1.0  2.053947   {'actual_k': 9, 'was_impossible': False}\n",
       "253    0   44   1.0  1.402291  {'actual_k': 13, 'was_impossible': False}\n",
       "271    0   45   2.0  1.222323  {'actual_k': 15, 'was_impossible': False}"
      ],
      "text/html": [
       "<div>\n",
       "<style scoped>\n",
       "    .dataframe tbody tr th:only-of-type {\n",
       "        vertical-align: middle;\n",
       "    }\n",
       "\n",
       "    .dataframe tbody tr th {\n",
       "        vertical-align: top;\n",
       "    }\n",
       "\n",
       "    .dataframe thead th {\n",
       "        text-align: right;\n",
       "    }\n",
       "</style>\n",
       "<table border=\"1\" class=\"dataframe\">\n",
       "  <thead>\n",
       "    <tr style=\"text-align: right;\">\n",
       "      <th></th>\n",
       "      <th>uid</th>\n",
       "      <th>iid</th>\n",
       "      <th>r_ui</th>\n",
       "      <th>est</th>\n",
       "      <th>details</th>\n",
       "    </tr>\n",
       "  </thead>\n",
       "  <tbody>\n",
       "    <tr>\n",
       "      <th>11</th>\n",
       "      <td>0</td>\n",
       "      <td>51</td>\n",
       "      <td>1.0</td>\n",
       "      <td>1.877850</td>\n",
       "      <td>{'actual_k': 17, 'was_impossible': False}</td>\n",
       "    </tr>\n",
       "    <tr>\n",
       "      <th>15</th>\n",
       "      <td>0</td>\n",
       "      <td>77</td>\n",
       "      <td>2.0</td>\n",
       "      <td>2.392023</td>\n",
       "      <td>{'actual_k': 9, 'was_impossible': False}</td>\n",
       "    </tr>\n",
       "    <tr>\n",
       "      <th>53</th>\n",
       "      <td>0</td>\n",
       "      <td>19</td>\n",
       "      <td>1.0</td>\n",
       "      <td>1.619435</td>\n",
       "      <td>{'actual_k': 11, 'was_impossible': False}</td>\n",
       "    </tr>\n",
       "    <tr>\n",
       "      <th>109</th>\n",
       "      <td>0</td>\n",
       "      <td>3</td>\n",
       "      <td>1.0</td>\n",
       "      <td>1.319781</td>\n",
       "      <td>{'actual_k': 10, 'was_impossible': False}</td>\n",
       "    </tr>\n",
       "    <tr>\n",
       "      <th>185</th>\n",
       "      <td>0</td>\n",
       "      <td>87</td>\n",
       "      <td>1.0</td>\n",
       "      <td>2.101785</td>\n",
       "      <td>{'actual_k': 11, 'was_impossible': False}</td>\n",
       "    </tr>\n",
       "    <tr>\n",
       "      <th>200</th>\n",
       "      <td>0</td>\n",
       "      <td>29</td>\n",
       "      <td>1.0</td>\n",
       "      <td>2.312419</td>\n",
       "      <td>{'actual_k': 15, 'was_impossible': False}</td>\n",
       "    </tr>\n",
       "    <tr>\n",
       "      <th>234</th>\n",
       "      <td>0</td>\n",
       "      <td>69</td>\n",
       "      <td>1.0</td>\n",
       "      <td>1.939611</td>\n",
       "      <td>{'actual_k': 12, 'was_impossible': False}</td>\n",
       "    </tr>\n",
       "    <tr>\n",
       "      <th>246</th>\n",
       "      <td>0</td>\n",
       "      <td>28</td>\n",
       "      <td>1.0</td>\n",
       "      <td>2.053947</td>\n",
       "      <td>{'actual_k': 9, 'was_impossible': False}</td>\n",
       "    </tr>\n",
       "    <tr>\n",
       "      <th>253</th>\n",
       "      <td>0</td>\n",
       "      <td>44</td>\n",
       "      <td>1.0</td>\n",
       "      <td>1.402291</td>\n",
       "      <td>{'actual_k': 13, 'was_impossible': False}</td>\n",
       "    </tr>\n",
       "    <tr>\n",
       "      <th>271</th>\n",
       "      <td>0</td>\n",
       "      <td>45</td>\n",
       "      <td>2.0</td>\n",
       "      <td>1.222323</td>\n",
       "      <td>{'actual_k': 15, 'was_impossible': False}</td>\n",
       "    </tr>\n",
       "  </tbody>\n",
       "</table>\n",
       "</div>"
      ]
     },
     "execution_count": 23,
     "metadata": {},
     "output_type": "execute_result"
    }
   ],
   "execution_count": 23
  },
  {
   "metadata": {
    "ExecuteTime": {
     "end_time": "2024-06-04T02:33:04.847542Z",
     "start_time": "2024-06-04T02:33:04.841373Z"
    }
   },
   "cell_type": "code",
   "source": "item[item[\"iid\"] == 0]",
   "id": "137179919cd0cc29",
   "outputs": [
    {
     "data": {
      "text/plain": [
       "     uid  iid  r_ui       est                                    details\n",
       "39    10    0   3.0  1.343411  {'actual_k': 11, 'was_impossible': False}\n",
       "171   19    0   1.0  1.094313  {'actual_k': 11, 'was_impossible': False}\n",
       "179   21    0   1.0  1.172975  {'actual_k': 11, 'was_impossible': False}\n",
       "232   22    0   1.0  1.122501  {'actual_k': 11, 'was_impossible': False}\n",
       "282   15    0   1.0  1.155047  {'actual_k': 11, 'was_impossible': False}"
      ],
      "text/html": [
       "<div>\n",
       "<style scoped>\n",
       "    .dataframe tbody tr th:only-of-type {\n",
       "        vertical-align: middle;\n",
       "    }\n",
       "\n",
       "    .dataframe tbody tr th {\n",
       "        vertical-align: top;\n",
       "    }\n",
       "\n",
       "    .dataframe thead th {\n",
       "        text-align: right;\n",
       "    }\n",
       "</style>\n",
       "<table border=\"1\" class=\"dataframe\">\n",
       "  <thead>\n",
       "    <tr style=\"text-align: right;\">\n",
       "      <th></th>\n",
       "      <th>uid</th>\n",
       "      <th>iid</th>\n",
       "      <th>r_ui</th>\n",
       "      <th>est</th>\n",
       "      <th>details</th>\n",
       "    </tr>\n",
       "  </thead>\n",
       "  <tbody>\n",
       "    <tr>\n",
       "      <th>39</th>\n",
       "      <td>10</td>\n",
       "      <td>0</td>\n",
       "      <td>3.0</td>\n",
       "      <td>1.343411</td>\n",
       "      <td>{'actual_k': 11, 'was_impossible': False}</td>\n",
       "    </tr>\n",
       "    <tr>\n",
       "      <th>171</th>\n",
       "      <td>19</td>\n",
       "      <td>0</td>\n",
       "      <td>1.0</td>\n",
       "      <td>1.094313</td>\n",
       "      <td>{'actual_k': 11, 'was_impossible': False}</td>\n",
       "    </tr>\n",
       "    <tr>\n",
       "      <th>179</th>\n",
       "      <td>21</td>\n",
       "      <td>0</td>\n",
       "      <td>1.0</td>\n",
       "      <td>1.172975</td>\n",
       "      <td>{'actual_k': 11, 'was_impossible': False}</td>\n",
       "    </tr>\n",
       "    <tr>\n",
       "      <th>232</th>\n",
       "      <td>22</td>\n",
       "      <td>0</td>\n",
       "      <td>1.0</td>\n",
       "      <td>1.122501</td>\n",
       "      <td>{'actual_k': 11, 'was_impossible': False}</td>\n",
       "    </tr>\n",
       "    <tr>\n",
       "      <th>282</th>\n",
       "      <td>15</td>\n",
       "      <td>0</td>\n",
       "      <td>1.0</td>\n",
       "      <td>1.155047</td>\n",
       "      <td>{'actual_k': 11, 'was_impossible': False}</td>\n",
       "    </tr>\n",
       "  </tbody>\n",
       "</table>\n",
       "</div>"
      ]
     },
     "execution_count": 24,
     "metadata": {},
     "output_type": "execute_result"
    }
   ],
   "execution_count": 24
  },
  {
   "metadata": {
    "ExecuteTime": {
     "end_time": "2024-06-04T02:33:50.751505Z",
     "start_time": "2024-06-04T02:33:50.748358Z"
    }
   },
   "cell_type": "code",
   "source": [
    "#**7  显示给用户推荐的top10的电影（5分）\n",
    "print(f\"用户推荐top10{user_top10}\")\n",
    "print(f\"商品推荐top10{item_top10}\")"
   ],
   "id": "a99fce4c24e06247",
   "outputs": [
    {
     "name": "stdout",
     "output_type": "stream",
     "text": [
      "用户推荐top10[77, 29, 87, 28, 69, 51, 19, 44, 3, 45]\n",
      "商品推荐top10[10, 21, 15, 22, 19]\n"
     ]
    }
   ],
   "execution_count": 25
  },
  {
   "metadata": {
    "ExecuteTime": {
     "end_time": "2024-06-04T02:35:19.578277Z",
     "start_time": "2024-06-04T02:35:19.574210Z"
    }
   },
   "cell_type": "code",
   "source": [
    "#**8   进行性能评估并输出结果（5分）\n",
    "from surprise import accuracy\n",
    "rmse = accuracy.rmse(user_pred)\n",
    "rmse"
   ],
   "id": "8dd6ff7561973d45",
   "outputs": [
    {
     "name": "stdout",
     "output_type": "stream",
     "text": [
      "RMSE: 1.1174\n"
     ]
    },
    {
     "data": {
      "text/plain": [
       "1.1173735432024514"
      ]
     },
     "execution_count": 27,
     "metadata": {},
     "output_type": "execute_result"
    }
   ],
   "execution_count": 27
  },
  {
   "metadata": {
    "ExecuteTime": {
     "end_time": "2024-06-04T02:39:05.026718Z",
     "start_time": "2024-06-04T02:39:05.022617Z"
    }
   },
   "cell_type": "code",
   "source": [
    "#**9  手动实现简单的逻辑回归算法（10分）\n",
    "def sigmoid(x):\n",
    "    return 1/(1+np.exp(-x))\n",
    "\n",
    "def log_cost(x,y,theta):\n",
    "    m = y.size \n",
    "    h = sigmoid(x.dot(theta))\n",
    "    j = (-1/m)*(y.dot(np.log(h)) + (1-y).dot(np.log(1-h)))\n",
    "    return j\n",
    "def log_desc(x,y,theta,lr,num_iter):\n",
    "    m = y.size\n",
    "    arr = np.zeros(num_iter)\n",
    "    for i in range(num_iter):\n",
    "        h = sigmoid(x.dot(theta))\n",
    "        arr[i] =log_cost(x,y,theta)\n",
    "        grid = (1/m)*(x.T.dot(h-y))\n",
    "        theta -= lr*grid\n",
    "    return theta,arr\n"
   ],
   "id": "7e5cf4f882eea7b1",
   "outputs": [],
   "execution_count": 28
  },
  {
   "metadata": {
    "ExecuteTime": {
     "end_time": "2024-06-04T02:42:32.040746Z",
     "start_time": "2024-06-04T02:42:31.845243Z"
    }
   },
   "cell_type": "code",
   "source": [
    "from sklearn.datasets import  make_classification\n",
    "from sklearn.model_selection import train_test_split\n",
    "X,y = make_classification(n_samples=300,n_features=5,n_classes=2)\n",
    "X_train,X_test,y_train,y_test = train_test_split(X,y,test_size=0.2,random_state=42)\n",
    "theta = np.zeros(X_train.shape[1])\n",
    "theta,arr = log_desc(X_train,y_train,theta,0.01,10000)\n",
    "print(arr)\n",
    "pred = sigmoid(X_test.dot(theta)).round()\n",
    "pred"
   ],
   "id": "44b1eaa8d943e4b5",
   "outputs": [
    {
     "name": "stdout",
     "output_type": "stream",
     "text": [
      "[0.69314718 0.69067741 0.68823106 ... 0.34040841 0.34040841 0.34040841]\n"
     ]
    },
    {
     "data": {
      "text/plain": [
       "array([0., 1., 1., 1., 1., 1., 0., 0., 1., 1., 1., 0., 0., 0., 0., 0., 0.,\n",
       "       1., 0., 1., 1., 1., 0., 0., 1., 0., 0., 0., 1., 1., 0., 0., 1., 1.,\n",
       "       0., 0., 1., 1., 0., 1., 1., 1., 0., 0., 1., 1., 0., 1., 0., 1., 1.,\n",
       "       1., 0., 1., 0., 1., 0., 1., 1., 0.])"
      ]
     },
     "execution_count": 30,
     "metadata": {},
     "output_type": "execute_result"
    }
   ],
   "execution_count": 30
  }
 ],
 "metadata": {
  "kernelspec": {
   "display_name": "Python 3",
   "language": "python",
   "name": "python3"
  },
  "language_info": {
   "codemirror_mode": {
    "name": "ipython",
    "version": 2
   },
   "file_extension": ".py",
   "mimetype": "text/x-python",
   "name": "python",
   "nbconvert_exporter": "python",
   "pygments_lexer": "ipython2",
   "version": "2.7.6"
  }
 },
 "nbformat": 4,
 "nbformat_minor": 5
}
